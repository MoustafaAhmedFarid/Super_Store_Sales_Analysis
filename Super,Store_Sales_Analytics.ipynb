{
 "cells": [
  {
   "cell_type": "code",
   "execution_count": 1,
   "id": "ae5b891f",
   "metadata": {},
   "outputs": [],
   "source": [
    "import pandas as pd\n",
    "import numpy as np\n",
    "from datasist.structdata import detect_outliers\n",
    "import seaborn as sns\n",
    "import matplotlib.pyplot as plt\n",
    "from sklearn.preprocessing import MultiLabelBinarizer\n",
    "import warnings\n",
    "warnings.simplefilter(action='ignore')\n",
    "import joblib"
   ]
  },
  {
   "cell_type": "code",
   "execution_count": 2,
   "id": "8d896f27",
   "metadata": {},
   "outputs": [
    {
     "data": {
      "text/html": [
       "<div>\n",
       "<style scoped>\n",
       "    .dataframe tbody tr th:only-of-type {\n",
       "        vertical-align: middle;\n",
       "    }\n",
       "\n",
       "    .dataframe tbody tr th {\n",
       "        vertical-align: top;\n",
       "    }\n",
       "\n",
       "    .dataframe thead th {\n",
       "        text-align: right;\n",
       "    }\n",
       "</style>\n",
       "<table border=\"1\" class=\"dataframe\">\n",
       "  <thead>\n",
       "    <tr style=\"text-align: right;\">\n",
       "      <th></th>\n",
       "      <th>order_id</th>\n",
       "      <th>order_date</th>\n",
       "      <th>ship_date</th>\n",
       "      <th>ship_mode</th>\n",
       "      <th>customer_name</th>\n",
       "      <th>segment</th>\n",
       "      <th>state</th>\n",
       "      <th>country</th>\n",
       "      <th>market</th>\n",
       "      <th>region</th>\n",
       "      <th>product_id</th>\n",
       "      <th>category</th>\n",
       "      <th>sub_category</th>\n",
       "      <th>product_name</th>\n",
       "      <th>sales</th>\n",
       "      <th>quantity</th>\n",
       "      <th>discount</th>\n",
       "      <th>profit</th>\n",
       "      <th>shipping_cost</th>\n",
       "      <th>order_priority</th>\n",
       "    </tr>\n",
       "  </thead>\n",
       "  <tbody>\n",
       "    <tr>\n",
       "      <th>0</th>\n",
       "      <td>EG-2011-1800</td>\n",
       "      <td>2011-01-01</td>\n",
       "      <td>2011-01-05</td>\n",
       "      <td>Standard Class</td>\n",
       "      <td>Hunter Glantz</td>\n",
       "      <td>Consumer</td>\n",
       "      <td>Al 11Iskandariyah</td>\n",
       "      <td>Egypt</td>\n",
       "      <td>Africa</td>\n",
       "      <td>Africa</td>\n",
       "      <td>OFF-BRE-10001343</td>\n",
       "      <td>Office Supplies</td>\n",
       "      <td>Appliances</td>\n",
       "      <td>Breville Blender, Silver</td>\n",
       "      <td>NaN</td>\n",
       "      <td>6.0</td>\n",
       "      <td>0.0</td>\n",
       "      <td>91.980</td>\n",
       "      <td>92.94</td>\n",
       "      <td>NaN</td>\n",
       "    </tr>\n",
       "    <tr>\n",
       "      <th>1</th>\n",
       "      <td>IN-2011-47883</td>\n",
       "      <td>2011-01-01</td>\n",
       "      <td>2011-01-08</td>\n",
       "      <td>Standard Class</td>\n",
       "      <td>Joseph Holt</td>\n",
       "      <td>Consumer</td>\n",
       "      <td>New South Wales</td>\n",
       "      <td>Australia</td>\n",
       "      <td>APAC</td>\n",
       "      <td>Oceania</td>\n",
       "      <td>OFF-SU-10000618</td>\n",
       "      <td>Office Supplies</td>\n",
       "      <td>Supplies</td>\n",
       "      <td>Acme Trimmer, High Speed</td>\n",
       "      <td>120.366</td>\n",
       "      <td>3.0</td>\n",
       "      <td>0.1</td>\n",
       "      <td>36.036</td>\n",
       "      <td>9.72</td>\n",
       "      <td>NaN</td>\n",
       "    </tr>\n",
       "    <tr>\n",
       "      <th>2</th>\n",
       "      <td>HU-2011-1220</td>\n",
       "      <td>2011-01-01</td>\n",
       "      <td>2011-01-05</td>\n",
       "      <td>Second Class</td>\n",
       "      <td>Annie Thurman</td>\n",
       "      <td>Consumer</td>\n",
       "      <td>Budapest</td>\n",
       "      <td>Hungary</td>\n",
       "      <td>EMEA</td>\n",
       "      <td>EMEA</td>\n",
       "      <td>OFF-TEN-10001585</td>\n",
       "      <td>Office Supplies</td>\n",
       "      <td>Storage</td>\n",
       "      <td>Tenex Box, Single Width</td>\n",
       "      <td>66.120</td>\n",
       "      <td>4.0</td>\n",
       "      <td>0.0</td>\n",
       "      <td>29.640</td>\n",
       "      <td>8.17</td>\n",
       "      <td>NaN</td>\n",
       "    </tr>\n",
       "    <tr>\n",
       "      <th>3</th>\n",
       "      <td>IT-2011-3647632</td>\n",
       "      <td>2011-01-01</td>\n",
       "      <td>2011-01-05</td>\n",
       "      <td>Second Class</td>\n",
       "      <td>Eugene Moren</td>\n",
       "      <td>Home Office</td>\n",
       "      <td>Stockholm</td>\n",
       "      <td>Sweden</td>\n",
       "      <td>EU</td>\n",
       "      <td>North</td>\n",
       "      <td>OFF-PA-10001492</td>\n",
       "      <td>Office Supplies</td>\n",
       "      <td>Paper</td>\n",
       "      <td>Enermax Note Cards, Premium</td>\n",
       "      <td>44.865</td>\n",
       "      <td>3.0</td>\n",
       "      <td>0.5</td>\n",
       "      <td>-26.055</td>\n",
       "      <td>4.82</td>\n",
       "      <td>NaN</td>\n",
       "    </tr>\n",
       "    <tr>\n",
       "      <th>4</th>\n",
       "      <td>IN-2011-47883</td>\n",
       "      <td>2011-01-01</td>\n",
       "      <td>2011-01-08</td>\n",
       "      <td>Standard Class</td>\n",
       "      <td>Joseph Holt</td>\n",
       "      <td>Consumer</td>\n",
       "      <td>New South Wales</td>\n",
       "      <td>Australia</td>\n",
       "      <td>APAC</td>\n",
       "      <td>Oceania</td>\n",
       "      <td>FUR-FU-10003447</td>\n",
       "      <td>Furniture</td>\n",
       "      <td>Furnishings</td>\n",
       "      <td>Eldon Light Bulb, Duo Pack</td>\n",
       "      <td>113.670</td>\n",
       "      <td>5.0</td>\n",
       "      <td>NaN</td>\n",
       "      <td>37.770</td>\n",
       "      <td>4.70</td>\n",
       "      <td>NaN</td>\n",
       "    </tr>\n",
       "    <tr>\n",
       "      <th>...</th>\n",
       "      <td>...</td>\n",
       "      <td>...</td>\n",
       "      <td>...</td>\n",
       "      <td>...</td>\n",
       "      <td>...</td>\n",
       "      <td>...</td>\n",
       "      <td>...</td>\n",
       "      <td>...</td>\n",
       "      <td>...</td>\n",
       "      <td>...</td>\n",
       "      <td>...</td>\n",
       "      <td>...</td>\n",
       "      <td>...</td>\n",
       "      <td>...</td>\n",
       "      <td>...</td>\n",
       "      <td>...</td>\n",
       "      <td>...</td>\n",
       "      <td>...</td>\n",
       "      <td>...</td>\n",
       "      <td>...</td>\n",
       "    </tr>\n",
       "    <tr>\n",
       "      <th>51480</th>\n",
       "      <td>IS-2014-30</td>\n",
       "      <td>2014-11-25</td>\n",
       "      <td>2014-11-27</td>\n",
       "      <td>Second Class</td>\n",
       "      <td>Sean Christensen</td>\n",
       "      <td>Consumer</td>\n",
       "      <td>Tel Aviv</td>\n",
       "      <td>NaN</td>\n",
       "      <td>EMEA</td>\n",
       "      <td>EMEA</td>\n",
       "      <td>FUR-RUB-10001094</td>\n",
       "      <td>Furniture</td>\n",
       "      <td>Furnishings</td>\n",
       "      <td>Rubbermaid Door Stop, Duo Pack</td>\n",
       "      <td>43.860</td>\n",
       "      <td>1.0</td>\n",
       "      <td>0.0</td>\n",
       "      <td>3.060</td>\n",
       "      <td>NaN</td>\n",
       "      <td>Critical</td>\n",
       "    </tr>\n",
       "    <tr>\n",
       "      <th>51481</th>\n",
       "      <td>IS-2014-3300</td>\n",
       "      <td>2014-12-06</td>\n",
       "      <td>2014-12-09</td>\n",
       "      <td>First Class</td>\n",
       "      <td>Neil Ducich</td>\n",
       "      <td>Corporate</td>\n",
       "      <td>Tel Aviv</td>\n",
       "      <td>NaN</td>\n",
       "      <td>EMEA</td>\n",
       "      <td>EMEA</td>\n",
       "      <td>OFF-TEN-10004270</td>\n",
       "      <td>Office Supplies</td>\n",
       "      <td>Storage</td>\n",
       "      <td>Tenex File Cart, Single Width</td>\n",
       "      <td>134.160</td>\n",
       "      <td>1.0</td>\n",
       "      <td>0.0</td>\n",
       "      <td>12.060</td>\n",
       "      <td>18.45</td>\n",
       "      <td>Medium</td>\n",
       "    </tr>\n",
       "    <tr>\n",
       "      <th>51482</th>\n",
       "      <td>IS-2014-4250</td>\n",
       "      <td>2014-12-17</td>\n",
       "      <td>2014-12-20</td>\n",
       "      <td>First Class</td>\n",
       "      <td>Meg O'Connel</td>\n",
       "      <td>Home Office</td>\n",
       "      <td>Haifa</td>\n",
       "      <td>NaN</td>\n",
       "      <td>EMEA</td>\n",
       "      <td>EMEA</td>\n",
       "      <td>OFF-CUI-10003993</td>\n",
       "      <td>Office Supplies</td>\n",
       "      <td>Appliances</td>\n",
       "      <td>Cuisinart Microwave, Red</td>\n",
       "      <td>278.460</td>\n",
       "      <td>1.0</td>\n",
       "      <td>0.0</td>\n",
       "      <td>75.180</td>\n",
       "      <td>63.45</td>\n",
       "      <td>High</td>\n",
       "    </tr>\n",
       "    <tr>\n",
       "      <th>51483</th>\n",
       "      <td>IS-2014-4250</td>\n",
       "      <td>2014-12-17</td>\n",
       "      <td>2014-12-20</td>\n",
       "      <td>First Class</td>\n",
       "      <td>Meg O'Connel</td>\n",
       "      <td>Home Office</td>\n",
       "      <td>Haifa</td>\n",
       "      <td>NaN</td>\n",
       "      <td>EMEA</td>\n",
       "      <td>EMEA</td>\n",
       "      <td>FUR-HON-10000722</td>\n",
       "      <td>Furniture</td>\n",
       "      <td>Chairs</td>\n",
       "      <td>Hon Rocking Chair, Adjustable</td>\n",
       "      <td>133.110</td>\n",
       "      <td>1.0</td>\n",
       "      <td>0.0</td>\n",
       "      <td>63.870</td>\n",
       "      <td>31.04</td>\n",
       "      <td>High</td>\n",
       "    </tr>\n",
       "    <tr>\n",
       "      <th>51484</th>\n",
       "      <td>IS-2014-4250</td>\n",
       "      <td>2014-12-17</td>\n",
       "      <td>2014-12-20</td>\n",
       "      <td>First Class</td>\n",
       "      <td>Meg O'Connel</td>\n",
       "      <td>Home Office</td>\n",
       "      <td>Haifa</td>\n",
       "      <td>NaN</td>\n",
       "      <td>EMEA</td>\n",
       "      <td>EMEA</td>\n",
       "      <td>OFF-NOV-10004968</td>\n",
       "      <td>Office Supplies</td>\n",
       "      <td>Labels</td>\n",
       "      <td>Novimex Removable Labels, Adjustable</td>\n",
       "      <td>15.540</td>\n",
       "      <td>2.0</td>\n",
       "      <td>0.0</td>\n",
       "      <td>0.000</td>\n",
       "      <td>5.24</td>\n",
       "      <td>High</td>\n",
       "    </tr>\n",
       "  </tbody>\n",
       "</table>\n",
       "<p>51485 rows × 20 columns</p>\n",
       "</div>"
      ],
      "text/plain": [
       "              order_id order_date  ship_date       ship_mode  \\\n",
       "0         EG-2011-1800 2011-01-01 2011-01-05  Standard Class   \n",
       "1        IN-2011-47883 2011-01-01 2011-01-08  Standard Class   \n",
       "2         HU-2011-1220 2011-01-01 2011-01-05    Second Class   \n",
       "3      IT-2011-3647632 2011-01-01 2011-01-05    Second Class   \n",
       "4        IN-2011-47883 2011-01-01 2011-01-08  Standard Class   \n",
       "...                ...        ...        ...             ...   \n",
       "51480       IS-2014-30 2014-11-25 2014-11-27    Second Class   \n",
       "51481     IS-2014-3300 2014-12-06 2014-12-09     First Class   \n",
       "51482     IS-2014-4250 2014-12-17 2014-12-20     First Class   \n",
       "51483     IS-2014-4250 2014-12-17 2014-12-20     First Class   \n",
       "51484     IS-2014-4250 2014-12-17 2014-12-20     First Class   \n",
       "\n",
       "          customer_name      segment              state    country  market  \\\n",
       "0         Hunter Glantz     Consumer  Al 11Iskandariyah      Egypt  Africa   \n",
       "1           Joseph Holt     Consumer    New South Wales  Australia    APAC   \n",
       "2         Annie Thurman     Consumer           Budapest    Hungary    EMEA   \n",
       "3          Eugene Moren  Home Office          Stockholm     Sweden      EU   \n",
       "4           Joseph Holt     Consumer    New South Wales  Australia    APAC   \n",
       "...                 ...          ...                ...        ...     ...   \n",
       "51480  Sean Christensen     Consumer           Tel Aviv        NaN    EMEA   \n",
       "51481       Neil Ducich    Corporate           Tel Aviv        NaN    EMEA   \n",
       "51482      Meg O'Connel  Home Office              Haifa        NaN    EMEA   \n",
       "51483      Meg O'Connel  Home Office              Haifa        NaN    EMEA   \n",
       "51484      Meg O'Connel  Home Office              Haifa        NaN    EMEA   \n",
       "\n",
       "        region        product_id         category sub_category  \\\n",
       "0       Africa  OFF-BRE-10001343  Office Supplies   Appliances   \n",
       "1      Oceania   OFF-SU-10000618  Office Supplies     Supplies   \n",
       "2         EMEA  OFF-TEN-10001585  Office Supplies      Storage   \n",
       "3        North   OFF-PA-10001492  Office Supplies        Paper   \n",
       "4      Oceania   FUR-FU-10003447        Furniture  Furnishings   \n",
       "...        ...               ...              ...          ...   \n",
       "51480     EMEA  FUR-RUB-10001094        Furniture  Furnishings   \n",
       "51481     EMEA  OFF-TEN-10004270  Office Supplies      Storage   \n",
       "51482     EMEA  OFF-CUI-10003993  Office Supplies   Appliances   \n",
       "51483     EMEA  FUR-HON-10000722        Furniture       Chairs   \n",
       "51484     EMEA  OFF-NOV-10004968  Office Supplies       Labels   \n",
       "\n",
       "                               product_name    sales  quantity  discount  \\\n",
       "0                  Breville Blender, Silver      NaN       6.0       0.0   \n",
       "1                  Acme Trimmer, High Speed  120.366       3.0       0.1   \n",
       "2                   Tenex Box, Single Width   66.120       4.0       0.0   \n",
       "3               Enermax Note Cards, Premium   44.865       3.0       0.5   \n",
       "4                Eldon Light Bulb, Duo Pack  113.670       5.0       NaN   \n",
       "...                                     ...      ...       ...       ...   \n",
       "51480        Rubbermaid Door Stop, Duo Pack   43.860       1.0       0.0   \n",
       "51481         Tenex File Cart, Single Width  134.160       1.0       0.0   \n",
       "51482              Cuisinart Microwave, Red  278.460       1.0       0.0   \n",
       "51483         Hon Rocking Chair, Adjustable  133.110       1.0       0.0   \n",
       "51484  Novimex Removable Labels, Adjustable   15.540       2.0       0.0   \n",
       "\n",
       "       profit  shipping_cost order_priority  \n",
       "0      91.980          92.94            NaN  \n",
       "1      36.036           9.72            NaN  \n",
       "2      29.640           8.17            NaN  \n",
       "3     -26.055           4.82            NaN  \n",
       "4      37.770           4.70            NaN  \n",
       "...       ...            ...            ...  \n",
       "51480   3.060            NaN       Critical  \n",
       "51481  12.060          18.45         Medium  \n",
       "51482  75.180          63.45           High  \n",
       "51483  63.870          31.04           High  \n",
       "51484   0.000           5.24           High  \n",
       "\n",
       "[51485 rows x 20 columns]"
      ]
     },
     "execution_count": 2,
     "metadata": {},
     "output_type": "execute_result"
    }
   ],
   "source": [
    "df = pd.read_excel('superstore_sales.xlsx',na_values='NAN')\n",
    "df"
   ]
  },
  {
   "cell_type": "code",
   "execution_count": 3,
   "id": "1a81a823",
   "metadata": {},
   "outputs": [
    {
     "name": "stdout",
     "output_type": "stream",
     "text": [
      "<class 'pandas.core.frame.DataFrame'>\n",
      "RangeIndex: 51485 entries, 0 to 51484\n",
      "Data columns (total 20 columns):\n",
      " #   Column          Non-Null Count  Dtype         \n",
      "---  ------          --------------  -----         \n",
      " 0   order_id        51485 non-null  object        \n",
      " 1   order_date      51485 non-null  datetime64[ns]\n",
      " 2   ship_date       51485 non-null  datetime64[ns]\n",
      " 3   ship_mode       51134 non-null  object        \n",
      " 4   customer_name   51066 non-null  object        \n",
      " 5   segment         51318 non-null  object        \n",
      " 6   state           51032 non-null  object        \n",
      " 7   country         51086 non-null  object        \n",
      " 8   market          51020 non-null  object        \n",
      " 9   region          51375 non-null  object        \n",
      " 10  product_id      51458 non-null  object        \n",
      " 11  category        50867 non-null  object        \n",
      " 12  sub_category    51481 non-null  object        \n",
      " 13  product_name    51470 non-null  object        \n",
      " 14  sales           51400 non-null  float64       \n",
      " 15  quantity        38061 non-null  float64       \n",
      " 16  discount        51424 non-null  float64       \n",
      " 17  profit          50971 non-null  float64       \n",
      " 18  shipping_cost   51417 non-null  float64       \n",
      " 19  order_priority  39072 non-null  object        \n",
      "dtypes: datetime64[ns](2), float64(5), object(13)\n",
      "memory usage: 7.9+ MB\n"
     ]
    }
   ],
   "source": [
    "df.info()"
   ]
  },
  {
   "cell_type": "code",
   "execution_count": 4,
   "id": "51988dac",
   "metadata": {},
   "outputs": [],
   "source": [
    "df.drop(['order_id','product_id','customer_name'],axis=1,inplace=True)"
   ]
  },
  {
   "cell_type": "code",
   "execution_count": 5,
   "id": "be2ca3da",
   "metadata": {},
   "outputs": [
    {
     "name": "stdout",
     "output_type": "stream",
     "text": [
      "value_counts is : \n",
      " Standard Class    30664\n",
      "Second Class      10276\n",
      "First Class        7494\n",
      "Same Day           2700\n",
      "Name: ship_mode, dtype: int64\n",
      "\n",
      " --------------------------------------------------\n",
      "value_counts is : \n",
      " Consumer       26520\n",
      "Corporate      15442\n",
      "Home Office     9356\n",
      "Name: segment, dtype: int64\n",
      "\n",
      " --------------------------------------------------\n",
      "value_counts is : \n",
      " California          1984\n",
      "England             1496\n",
      "New York            1128\n",
      "Ile-de-France        978\n",
      "Texas                977\n",
      "                    ... \n",
      "Medea                  1\n",
      "Stara Zagora           1\n",
      "Arad                   1\n",
      "Galway                 1\n",
      "Atsimo-Andrefana       1\n",
      "Name: state, Length: 1093, dtype: int64\n",
      "\n",
      " --------------------------------------------------\n",
      "value_counts is : \n",
      " United States    9939\n",
      "Australia        2833\n",
      "France           2809\n",
      "Mexico           2637\n",
      "Germany          2055\n",
      "                 ... \n",
      "South Sudan         2\n",
      "Burundi             2\n",
      "Chad                2\n",
      "Eritrea             2\n",
      "Bahrain             2\n",
      "Name: country, Length: 146, dtype: int64\n",
      "\n",
      " --------------------------------------------------\n",
      "value_counts is : \n",
      " APAC      10946\n",
      "LATAM     10206\n",
      "EU         9921\n",
      "US         9918\n",
      "EMEA       4958\n",
      "Africa     4683\n",
      "Canada      382\n",
      "?             3\n",
      "xxx           2\n",
      "??            1\n",
      "Name: market, dtype: int64\n",
      "\n",
      " --------------------------------------------------\n",
      "value_counts is : \n",
      " Central           11090\n",
      "South              6636\n",
      "EMEA               5047\n",
      "North              4781\n",
      "Africa             4713\n",
      "Oceania            3487\n",
      "West               3199\n",
      "Southeast Asia     3122\n",
      "East               2846\n",
      "North Asia         2333\n",
      "Central Asia       2048\n",
      "Caribbean          1688\n",
      "Canada              385\n",
      "Name: region, dtype: int64\n",
      "\n",
      " --------------------------------------------------\n",
      "value_counts is : \n",
      " Office Supplies    31011\n",
      "Technology         10054\n",
      "Furniture           9802\n",
      "Name: category, dtype: int64\n",
      "\n",
      " --------------------------------------------------\n",
      "value_counts is : \n",
      " Binders        6173\n",
      "Storage        5084\n",
      "Art            4908\n",
      "Paper          3544\n",
      "Chairs         3444\n",
      "Phones         3366\n",
      "Furnishings    3177\n",
      "Accessories    3088\n",
      "Labels         2614\n",
      "Envelopes      2442\n",
      "Supplies       2435\n",
      "Fasteners      2430\n",
      "Bookcases      2421\n",
      "Copiers        2236\n",
      "Appliances     1763\n",
      "Machines       1494\n",
      "Tables          862\n",
      "Name: sub_category, dtype: int64\n",
      "\n",
      " --------------------------------------------------\n",
      "value_counts is : \n",
      " Staples                                                                     227\n",
      "Cardinal Index Tab, Clear                                                    92\n",
      "Eldon File Cart, Single Width                                                90\n",
      "Ibico Index Tab, Clear                                                       84\n",
      "Rogers File Cart, Single Width                                               84\n",
      "                                                                           ... \n",
      "Canon imageCLASS MF7460 Monochrome Digital Laser Multifunction Copier         1\n",
      "Bush Westfield Collection Bookcases, Dark Cherry Finish, Fully Assembled      1\n",
      "Zebra GK420t Direct Thermal/Thermal Transfer Printer                          1\n",
      "Grip Seal Envelopes                                                           1\n",
      "Boston 1900 Electric Pencil Sharpener                                         1\n",
      "Name: product_name, Length: 3788, dtype: int64\n",
      "\n",
      " --------------------------------------------------\n",
      "value_counts is : \n",
      " Medium      22403\n",
      "High        11890\n",
      "Critical     2982\n",
      "Low          1797\n",
      "Name: order_priority, dtype: int64\n",
      "\n",
      " --------------------------------------------------\n"
     ]
    }
   ],
   "source": [
    "cat_col=df.select_dtypes(include='object').columns\n",
    "for cat in cat_col:\n",
    "    print('value_counts is :','\\n',df[cat].value_counts())\n",
    "    print(\"\\n\",'-'*50)"
   ]
  },
  {
   "cell_type": "markdown",
   "id": "f14dcab6",
   "metadata": {},
   "source": [
    "### Check for duplicates "
   ]
  },
  {
   "cell_type": "code",
   "execution_count": 6,
   "id": "d98ba4d6",
   "metadata": {
    "scrolled": true
   },
   "outputs": [
    {
     "data": {
      "text/plain": [
       "38"
      ]
     },
     "execution_count": 6,
     "metadata": {},
     "output_type": "execute_result"
    }
   ],
   "source": [
    "df.duplicated().sum()"
   ]
  },
  {
   "cell_type": "markdown",
   "id": "19c49f16",
   "metadata": {},
   "source": [
    "### Remove Duplicates"
   ]
  },
  {
   "cell_type": "code",
   "execution_count": 7,
   "id": "8fcb978e",
   "metadata": {},
   "outputs": [],
   "source": [
    "df.drop_duplicates(inplace=True)"
   ]
  },
  {
   "cell_type": "markdown",
   "id": "b8f73bfc",
   "metadata": {},
   "source": [
    "### Reset Index"
   ]
  },
  {
   "cell_type": "code",
   "execution_count": 8,
   "id": "58b50219",
   "metadata": {},
   "outputs": [],
   "source": [
    "df.reset_index(drop=True,inplace=True)"
   ]
  },
  {
   "cell_type": "markdown",
   "id": "cd3d5fb7",
   "metadata": {},
   "source": [
    "### Apply univariate analysis to check for errors"
   ]
  },
  {
   "cell_type": "code",
   "execution_count": 9,
   "id": "e4d326c2",
   "metadata": {},
   "outputs": [
    {
     "data": {
      "text/html": [
       "<div>\n",
       "<style scoped>\n",
       "    .dataframe tbody tr th:only-of-type {\n",
       "        vertical-align: middle;\n",
       "    }\n",
       "\n",
       "    .dataframe tbody tr th {\n",
       "        vertical-align: top;\n",
       "    }\n",
       "\n",
       "    .dataframe thead th {\n",
       "        text-align: right;\n",
       "    }\n",
       "</style>\n",
       "<table border=\"1\" class=\"dataframe\">\n",
       "  <thead>\n",
       "    <tr style=\"text-align: right;\">\n",
       "      <th></th>\n",
       "      <th>order_date</th>\n",
       "      <th>ship_date</th>\n",
       "      <th>ship_mode</th>\n",
       "      <th>segment</th>\n",
       "      <th>state</th>\n",
       "      <th>country</th>\n",
       "      <th>market</th>\n",
       "      <th>region</th>\n",
       "      <th>category</th>\n",
       "      <th>sub_category</th>\n",
       "      <th>product_name</th>\n",
       "      <th>sales</th>\n",
       "      <th>quantity</th>\n",
       "      <th>discount</th>\n",
       "      <th>profit</th>\n",
       "      <th>shipping_cost</th>\n",
       "      <th>order_priority</th>\n",
       "    </tr>\n",
       "  </thead>\n",
       "  <tbody>\n",
       "    <tr>\n",
       "      <th>0</th>\n",
       "      <td>2011-01-01</td>\n",
       "      <td>2011-01-05</td>\n",
       "      <td>Standard Class</td>\n",
       "      <td>Consumer</td>\n",
       "      <td>Al 11Iskandariyah</td>\n",
       "      <td>Egypt</td>\n",
       "      <td>Africa</td>\n",
       "      <td>Africa</td>\n",
       "      <td>Office Supplies</td>\n",
       "      <td>Appliances</td>\n",
       "      <td>Breville Blender, Silver</td>\n",
       "      <td>NaN</td>\n",
       "      <td>6.0</td>\n",
       "      <td>0.0</td>\n",
       "      <td>91.980</td>\n",
       "      <td>92.94</td>\n",
       "      <td>NaN</td>\n",
       "    </tr>\n",
       "    <tr>\n",
       "      <th>1</th>\n",
       "      <td>2011-01-01</td>\n",
       "      <td>2011-01-08</td>\n",
       "      <td>Standard Class</td>\n",
       "      <td>Consumer</td>\n",
       "      <td>New South Wales</td>\n",
       "      <td>Australia</td>\n",
       "      <td>APAC</td>\n",
       "      <td>Oceania</td>\n",
       "      <td>Office Supplies</td>\n",
       "      <td>Supplies</td>\n",
       "      <td>Acme Trimmer, High Speed</td>\n",
       "      <td>120.366</td>\n",
       "      <td>3.0</td>\n",
       "      <td>0.1</td>\n",
       "      <td>36.036</td>\n",
       "      <td>9.72</td>\n",
       "      <td>NaN</td>\n",
       "    </tr>\n",
       "    <tr>\n",
       "      <th>2</th>\n",
       "      <td>2011-01-01</td>\n",
       "      <td>2011-01-05</td>\n",
       "      <td>Second Class</td>\n",
       "      <td>Consumer</td>\n",
       "      <td>Budapest</td>\n",
       "      <td>Hungary</td>\n",
       "      <td>EMEA</td>\n",
       "      <td>EMEA</td>\n",
       "      <td>Office Supplies</td>\n",
       "      <td>Storage</td>\n",
       "      <td>Tenex Box, Single Width</td>\n",
       "      <td>66.120</td>\n",
       "      <td>4.0</td>\n",
       "      <td>0.0</td>\n",
       "      <td>29.640</td>\n",
       "      <td>8.17</td>\n",
       "      <td>NaN</td>\n",
       "    </tr>\n",
       "    <tr>\n",
       "      <th>3</th>\n",
       "      <td>2011-01-01</td>\n",
       "      <td>2011-01-05</td>\n",
       "      <td>Second Class</td>\n",
       "      <td>Home Office</td>\n",
       "      <td>Stockholm</td>\n",
       "      <td>Sweden</td>\n",
       "      <td>EU</td>\n",
       "      <td>North</td>\n",
       "      <td>Office Supplies</td>\n",
       "      <td>Paper</td>\n",
       "      <td>Enermax Note Cards, Premium</td>\n",
       "      <td>44.865</td>\n",
       "      <td>3.0</td>\n",
       "      <td>0.5</td>\n",
       "      <td>-26.055</td>\n",
       "      <td>4.82</td>\n",
       "      <td>NaN</td>\n",
       "    </tr>\n",
       "    <tr>\n",
       "      <th>4</th>\n",
       "      <td>2011-01-01</td>\n",
       "      <td>2011-01-08</td>\n",
       "      <td>Standard Class</td>\n",
       "      <td>Consumer</td>\n",
       "      <td>New South Wales</td>\n",
       "      <td>Australia</td>\n",
       "      <td>APAC</td>\n",
       "      <td>Oceania</td>\n",
       "      <td>Furniture</td>\n",
       "      <td>Furnishings</td>\n",
       "      <td>Eldon Light Bulb, Duo Pack</td>\n",
       "      <td>113.670</td>\n",
       "      <td>5.0</td>\n",
       "      <td>NaN</td>\n",
       "      <td>37.770</td>\n",
       "      <td>4.70</td>\n",
       "      <td>NaN</td>\n",
       "    </tr>\n",
       "    <tr>\n",
       "      <th>...</th>\n",
       "      <td>...</td>\n",
       "      <td>...</td>\n",
       "      <td>...</td>\n",
       "      <td>...</td>\n",
       "      <td>...</td>\n",
       "      <td>...</td>\n",
       "      <td>...</td>\n",
       "      <td>...</td>\n",
       "      <td>...</td>\n",
       "      <td>...</td>\n",
       "      <td>...</td>\n",
       "      <td>...</td>\n",
       "      <td>...</td>\n",
       "      <td>...</td>\n",
       "      <td>...</td>\n",
       "      <td>...</td>\n",
       "      <td>...</td>\n",
       "    </tr>\n",
       "    <tr>\n",
       "      <th>51442</th>\n",
       "      <td>2014-11-25</td>\n",
       "      <td>2014-11-27</td>\n",
       "      <td>Second Class</td>\n",
       "      <td>Consumer</td>\n",
       "      <td>Tel Aviv</td>\n",
       "      <td>NaN</td>\n",
       "      <td>EMEA</td>\n",
       "      <td>EMEA</td>\n",
       "      <td>Furniture</td>\n",
       "      <td>Furnishings</td>\n",
       "      <td>Rubbermaid Door Stop, Duo Pack</td>\n",
       "      <td>43.860</td>\n",
       "      <td>1.0</td>\n",
       "      <td>0.0</td>\n",
       "      <td>3.060</td>\n",
       "      <td>NaN</td>\n",
       "      <td>Critical</td>\n",
       "    </tr>\n",
       "    <tr>\n",
       "      <th>51443</th>\n",
       "      <td>2014-12-06</td>\n",
       "      <td>2014-12-09</td>\n",
       "      <td>First Class</td>\n",
       "      <td>Corporate</td>\n",
       "      <td>Tel Aviv</td>\n",
       "      <td>NaN</td>\n",
       "      <td>EMEA</td>\n",
       "      <td>EMEA</td>\n",
       "      <td>Office Supplies</td>\n",
       "      <td>Storage</td>\n",
       "      <td>Tenex File Cart, Single Width</td>\n",
       "      <td>134.160</td>\n",
       "      <td>1.0</td>\n",
       "      <td>0.0</td>\n",
       "      <td>12.060</td>\n",
       "      <td>18.45</td>\n",
       "      <td>Medium</td>\n",
       "    </tr>\n",
       "    <tr>\n",
       "      <th>51444</th>\n",
       "      <td>2014-12-17</td>\n",
       "      <td>2014-12-20</td>\n",
       "      <td>First Class</td>\n",
       "      <td>Home Office</td>\n",
       "      <td>Haifa</td>\n",
       "      <td>NaN</td>\n",
       "      <td>EMEA</td>\n",
       "      <td>EMEA</td>\n",
       "      <td>Office Supplies</td>\n",
       "      <td>Appliances</td>\n",
       "      <td>Cuisinart Microwave, Red</td>\n",
       "      <td>278.460</td>\n",
       "      <td>1.0</td>\n",
       "      <td>0.0</td>\n",
       "      <td>75.180</td>\n",
       "      <td>63.45</td>\n",
       "      <td>High</td>\n",
       "    </tr>\n",
       "    <tr>\n",
       "      <th>51445</th>\n",
       "      <td>2014-12-17</td>\n",
       "      <td>2014-12-20</td>\n",
       "      <td>First Class</td>\n",
       "      <td>Home Office</td>\n",
       "      <td>Haifa</td>\n",
       "      <td>NaN</td>\n",
       "      <td>EMEA</td>\n",
       "      <td>EMEA</td>\n",
       "      <td>Furniture</td>\n",
       "      <td>Chairs</td>\n",
       "      <td>Hon Rocking Chair, Adjustable</td>\n",
       "      <td>133.110</td>\n",
       "      <td>1.0</td>\n",
       "      <td>0.0</td>\n",
       "      <td>63.870</td>\n",
       "      <td>31.04</td>\n",
       "      <td>High</td>\n",
       "    </tr>\n",
       "    <tr>\n",
       "      <th>51446</th>\n",
       "      <td>2014-12-17</td>\n",
       "      <td>2014-12-20</td>\n",
       "      <td>First Class</td>\n",
       "      <td>Home Office</td>\n",
       "      <td>Haifa</td>\n",
       "      <td>NaN</td>\n",
       "      <td>EMEA</td>\n",
       "      <td>EMEA</td>\n",
       "      <td>Office Supplies</td>\n",
       "      <td>Labels</td>\n",
       "      <td>Novimex Removable Labels, Adjustable</td>\n",
       "      <td>15.540</td>\n",
       "      <td>2.0</td>\n",
       "      <td>0.0</td>\n",
       "      <td>0.000</td>\n",
       "      <td>5.24</td>\n",
       "      <td>High</td>\n",
       "    </tr>\n",
       "  </tbody>\n",
       "</table>\n",
       "<p>51447 rows × 17 columns</p>\n",
       "</div>"
      ],
      "text/plain": [
       "      order_date  ship_date       ship_mode      segment              state  \\\n",
       "0     2011-01-01 2011-01-05  Standard Class     Consumer  Al 11Iskandariyah   \n",
       "1     2011-01-01 2011-01-08  Standard Class     Consumer    New South Wales   \n",
       "2     2011-01-01 2011-01-05    Second Class     Consumer           Budapest   \n",
       "3     2011-01-01 2011-01-05    Second Class  Home Office          Stockholm   \n",
       "4     2011-01-01 2011-01-08  Standard Class     Consumer    New South Wales   \n",
       "...          ...        ...             ...          ...                ...   \n",
       "51442 2014-11-25 2014-11-27    Second Class     Consumer           Tel Aviv   \n",
       "51443 2014-12-06 2014-12-09     First Class    Corporate           Tel Aviv   \n",
       "51444 2014-12-17 2014-12-20     First Class  Home Office              Haifa   \n",
       "51445 2014-12-17 2014-12-20     First Class  Home Office              Haifa   \n",
       "51446 2014-12-17 2014-12-20     First Class  Home Office              Haifa   \n",
       "\n",
       "         country  market   region         category sub_category  \\\n",
       "0          Egypt  Africa   Africa  Office Supplies   Appliances   \n",
       "1      Australia    APAC  Oceania  Office Supplies     Supplies   \n",
       "2        Hungary    EMEA     EMEA  Office Supplies      Storage   \n",
       "3         Sweden      EU    North  Office Supplies        Paper   \n",
       "4      Australia    APAC  Oceania        Furniture  Furnishings   \n",
       "...          ...     ...      ...              ...          ...   \n",
       "51442        NaN    EMEA     EMEA        Furniture  Furnishings   \n",
       "51443        NaN    EMEA     EMEA  Office Supplies      Storage   \n",
       "51444        NaN    EMEA     EMEA  Office Supplies   Appliances   \n",
       "51445        NaN    EMEA     EMEA        Furniture       Chairs   \n",
       "51446        NaN    EMEA     EMEA  Office Supplies       Labels   \n",
       "\n",
       "                               product_name    sales  quantity  discount  \\\n",
       "0                  Breville Blender, Silver      NaN       6.0       0.0   \n",
       "1                  Acme Trimmer, High Speed  120.366       3.0       0.1   \n",
       "2                   Tenex Box, Single Width   66.120       4.0       0.0   \n",
       "3               Enermax Note Cards, Premium   44.865       3.0       0.5   \n",
       "4                Eldon Light Bulb, Duo Pack  113.670       5.0       NaN   \n",
       "...                                     ...      ...       ...       ...   \n",
       "51442        Rubbermaid Door Stop, Duo Pack   43.860       1.0       0.0   \n",
       "51443         Tenex File Cart, Single Width  134.160       1.0       0.0   \n",
       "51444              Cuisinart Microwave, Red  278.460       1.0       0.0   \n",
       "51445         Hon Rocking Chair, Adjustable  133.110       1.0       0.0   \n",
       "51446  Novimex Removable Labels, Adjustable   15.540       2.0       0.0   \n",
       "\n",
       "       profit  shipping_cost order_priority  \n",
       "0      91.980          92.94            NaN  \n",
       "1      36.036           9.72            NaN  \n",
       "2      29.640           8.17            NaN  \n",
       "3     -26.055           4.82            NaN  \n",
       "4      37.770           4.70            NaN  \n",
       "...       ...            ...            ...  \n",
       "51442   3.060            NaN       Critical  \n",
       "51443  12.060          18.45         Medium  \n",
       "51444  75.180          63.45           High  \n",
       "51445  63.870          31.04           High  \n",
       "51446   0.000           5.24           High  \n",
       "\n",
       "[51447 rows x 17 columns]"
      ]
     },
     "execution_count": 9,
     "metadata": {},
     "output_type": "execute_result"
    }
   ],
   "source": [
    "df"
   ]
  },
  {
   "cell_type": "code",
   "execution_count": null,
   "id": "80f94261",
   "metadata": {
    "scrolled": false
   },
   "outputs": [],
   "source": [
    "num_columns = df.select_dtypes(include=\"number\").columns\n",
    "for col in num_columns:\n",
    "    sns.displot(data = df ,  x = col)"
   ]
  },
  {
   "cell_type": "code",
   "execution_count": null,
   "id": "1fc8972f",
   "metadata": {
    "scrolled": false
   },
   "outputs": [],
   "source": [
    "cats=['ship_mode', 'segment', 'market', 'region',\n",
    "       'category', 'sub_category', 'order_priority']\n",
    "for col in cats:\n",
    "    plt.figure(figsize=(15,10))\n",
    "    df[col].value_counts().plot.pie(autopct='%.2f%%')    \n",
    "    plt.title(f'Count of {col}')\n",
    "    plt.show()"
   ]
  },
  {
   "cell_type": "code",
   "execution_count": null,
   "id": "f64b6fc3",
   "metadata": {},
   "outputs": [],
   "source": [
    "cats"
   ]
  },
  {
   "cell_type": "code",
   "execution_count": null,
   "id": "8c3c3a31",
   "metadata": {},
   "outputs": [],
   "source": [
    "sns.countplot(data = df , y = 'ship_mode')"
   ]
  },
  {
   "cell_type": "code",
   "execution_count": null,
   "id": "fc2d8529",
   "metadata": {},
   "outputs": [],
   "source": [
    "sns.countplot(data = df , y = 'segment')"
   ]
  },
  {
   "cell_type": "code",
   "execution_count": null,
   "id": "ccd9e035",
   "metadata": {},
   "outputs": [],
   "source": [
    "sns.countplot(data = df , y = 'market')"
   ]
  },
  {
   "cell_type": "code",
   "execution_count": null,
   "id": "193affd0",
   "metadata": {},
   "outputs": [],
   "source": [
    "sns.countplot(data = df , y = 'region')"
   ]
  },
  {
   "cell_type": "code",
   "execution_count": null,
   "id": "b90988d3",
   "metadata": {},
   "outputs": [],
   "source": [
    "sns.countplot(data = df , y = 'category')"
   ]
  },
  {
   "cell_type": "code",
   "execution_count": null,
   "id": "e5b7b45f",
   "metadata": {},
   "outputs": [],
   "source": [
    "sns.countplot(data = df , y = 'sub_category')"
   ]
  },
  {
   "cell_type": "code",
   "execution_count": null,
   "id": "4de94129",
   "metadata": {
    "scrolled": true
   },
   "outputs": [],
   "source": [
    "sns.countplot(data = df , y = 'order_priority')"
   ]
  },
  {
   "cell_type": "markdown",
   "id": "132d3106",
   "metadata": {},
   "source": [
    "### Clean the data by fixing the errors using apply function"
   ]
  },
  {
   "cell_type": "code",
   "execution_count": null,
   "id": "780fc70d",
   "metadata": {
    "scrolled": false
   },
   "outputs": [],
   "source": [
    "df['market'].unique().tolist()"
   ]
  },
  {
   "cell_type": "code",
   "execution_count": null,
   "id": "9c1adf7e",
   "metadata": {},
   "outputs": [],
   "source": [
    "df['state'].unique().tolist()"
   ]
  },
  {
   "cell_type": "markdown",
   "id": "d72f2a9a",
   "metadata": {},
   "source": [
    "### Detect incomprehensible values "
   ]
  },
  {
   "cell_type": "code",
   "execution_count": null,
   "id": "61a22cb1",
   "metadata": {},
   "outputs": [],
   "source": [
    "s='Al Iskandariyah'\n",
    "def mod_state(state):\n",
    "    if state == 'Al 11Iskandariyah':\n",
    "        return s\n",
    "    else:\n",
    "        return state"
   ]
  },
  {
   "cell_type": "code",
   "execution_count": null,
   "id": "9f379ef5",
   "metadata": {},
   "outputs": [],
   "source": [
    "df['state']=df['state'].apply(mod_state)"
   ]
  },
  {
   "cell_type": "code",
   "execution_count": null,
   "id": "00f4d5f9",
   "metadata": {},
   "outputs": [],
   "source": [
    "df['state']"
   ]
  },
  {
   "cell_type": "code",
   "execution_count": null,
   "id": "102b5ebe",
   "metadata": {},
   "outputs": [],
   "source": [
    "def mod_market (market):\n",
    "    if market in ['?','??','xxx'] :\n",
    "        return np.nan\n",
    "    else:\n",
    "        return market"
   ]
  },
  {
   "cell_type": "code",
   "execution_count": null,
   "id": "24e0d17e",
   "metadata": {},
   "outputs": [],
   "source": [
    "df['market']=df['market'].apply(mod_market)"
   ]
  },
  {
   "cell_type": "code",
   "execution_count": null,
   "id": "e2d07901",
   "metadata": {},
   "outputs": [],
   "source": [
    "df['market'].unique()"
   ]
  },
  {
   "cell_type": "markdown",
   "id": "f7438486",
   "metadata": {},
   "source": [
    "### Here they have cleaned up the errors at the market & state column by changing the unknown symbols using [Apply Function]\n",
    "## --------------------------------------------------------------------------------"
   ]
  },
  {
   "cell_type": "markdown",
   "id": "68dc415a",
   "metadata": {},
   "source": [
    "### Check for missing values to  take it into consideration during analysis  "
   ]
  },
  {
   "cell_type": "code",
   "execution_count": null,
   "id": "527a9652",
   "metadata": {},
   "outputs": [],
   "source": [
    "df.isnull().mean()*100"
   ]
  },
  {
   "cell_type": "markdown",
   "id": "d6d179b0",
   "metadata": {},
   "source": [
    "### Drop Missing Values"
   ]
  },
  {
   "cell_type": "code",
   "execution_count": null,
   "id": "af2bc6a1",
   "metadata": {},
   "outputs": [],
   "source": [
    "df.dropna(axis=0,inplace=True)"
   ]
  },
  {
   "cell_type": "markdown",
   "id": "77027604",
   "metadata": {},
   "source": [
    "### Reset Index"
   ]
  },
  {
   "cell_type": "code",
   "execution_count": null,
   "id": "15cdbbc5",
   "metadata": {},
   "outputs": [],
   "source": [
    "df.reset_index(drop=True,inplace=True)"
   ]
  },
  {
   "cell_type": "markdown",
   "id": "f5272f17",
   "metadata": {},
   "source": [
    "### Apply Feature Engineering"
   ]
  },
  {
   "cell_type": "code",
   "execution_count": null,
   "id": "0f6a11f5",
   "metadata": {},
   "outputs": [],
   "source": [
    "df['year'] = df['order_date'].dt.year\n",
    "df['month'] = df['order_date'].dt.month_name(locale='English')\n",
    "df['day'] = df['order_date'].dt.day"
   ]
  },
  {
   "cell_type": "code",
   "execution_count": null,
   "id": "d86422ce",
   "metadata": {},
   "outputs": [],
   "source": [
    "df"
   ]
  },
  {
   "cell_type": "markdown",
   "id": "580b74b1",
   "metadata": {},
   "source": [
    "### Extract Year and Month_name of order data\n",
    "## -------------------------------------------------------------------------------------------------------------------------"
   ]
  },
  {
   "cell_type": "markdown",
   "id": "b47477de",
   "metadata": {},
   "source": [
    "### What is the best month for sale ?"
   ]
  },
  {
   "cell_type": "code",
   "execution_count": null,
   "id": "0feecd8a",
   "metadata": {},
   "outputs": [],
   "source": [
    "df.groupby('month')['sales'].sum().sort_values(ascending = False)"
   ]
  },
  {
   "cell_type": "code",
   "execution_count": null,
   "id": "960ef6f9",
   "metadata": {},
   "outputs": [],
   "source": [
    "sns.barplot(data=df, y='month', x='sales', estimator=sum, order=pd.value_counts(df['month']).index)"
   ]
  },
  {
   "cell_type": "markdown",
   "id": "ca7e3e81",
   "metadata": {},
   "source": [
    "#### Here based on the gragh that [August and November] are the higher month in sale\n",
    "## -----------------------------------------------------------------------------"
   ]
  },
  {
   "cell_type": "markdown",
   "id": "bc507520",
   "metadata": {},
   "source": [
    "### what is is the amount of Discount every month each year ?"
   ]
  },
  {
   "cell_type": "code",
   "execution_count": null,
   "id": "505d88c8",
   "metadata": {},
   "outputs": [],
   "source": [
    "c = pd.pivot_table(data = df , index = 'year' , columns ='month' , values = 'discount' , aggfunc=sum)\n",
    "sns.heatmap(c)"
   ]
  },
  {
   "cell_type": "markdown",
   "id": "a89d3648",
   "metadata": {},
   "source": [
    "### What is the effect of Discount on Sales ?"
   ]
  },
  {
   "cell_type": "code",
   "execution_count": null,
   "id": "6c4ecb58",
   "metadata": {
    "scrolled": true
   },
   "outputs": [],
   "source": [
    "sns.lineplot(data=df, x='discount', y='profit',  hue='year', estimator=sum )"
   ]
  },
  {
   "cell_type": "markdown",
   "id": "6183e1fc",
   "metadata": {},
   "source": [
    "### What is the total sells for each region each year ?"
   ]
  },
  {
   "cell_type": "code",
   "execution_count": null,
   "id": "7672026e",
   "metadata": {
    "scrolled": true
   },
   "outputs": [],
   "source": [
    "sns.barplot(data = df , y = 'region' , x = 'sales' , hue='year' , estimator=sum )"
   ]
  },
  {
   "cell_type": "markdown",
   "id": "01046c96",
   "metadata": {},
   "source": [
    "### What is the most discounted category ?"
   ]
  },
  {
   "cell_type": "code",
   "execution_count": null,
   "id": "f0d9e43a",
   "metadata": {},
   "outputs": [],
   "source": [
    "df.groupby('category').sum()['discount'].sort_values(ascending = False)"
   ]
  },
  {
   "cell_type": "code",
   "execution_count": null,
   "id": "a54ef339",
   "metadata": {},
   "outputs": [],
   "source": [
    "sns.barplot(data = df , x = 'category' , y = 'discount' , estimator=sum )"
   ]
  },
  {
   "cell_type": "markdown",
   "id": "9e9c9472",
   "metadata": {},
   "source": [
    "### What is the top 20 profited country ?"
   ]
  },
  {
   "cell_type": "code",
   "execution_count": null,
   "id": "2b982af5",
   "metadata": {},
   "outputs": [],
   "source": [
    "df.groupby('country').sum()['profit'].sort_values(ascending = False).head(20)"
   ]
  },
  {
   "cell_type": "code",
   "execution_count": null,
   "id": "90991f3d",
   "metadata": {},
   "outputs": [],
   "source": [
    "top20_country__profit = df.groupby('country').sum()['profit'].sort_values(ascending = False).head(20).index\n",
    "top20_country_profit = df[df['country'].isin(top20_country__profit)]"
   ]
  },
  {
   "cell_type": "code",
   "execution_count": null,
   "id": "aa053415",
   "metadata": {},
   "outputs": [],
   "source": [
    "sns.barplot(data = top20_country_profit  , y = 'country' , x = 'profit' , estimator=sum , order=top20_country__profit)"
   ]
  },
  {
   "cell_type": "markdown",
   "id": "0e233f64",
   "metadata": {},
   "source": [
    "### What is the top 20 profited state ?"
   ]
  },
  {
   "cell_type": "code",
   "execution_count": null,
   "id": "6a9503ba",
   "metadata": {},
   "outputs": [],
   "source": [
    "top20_state__profit = df.groupby('state').sum()['profit'].sort_values(ascending = False).head(20).index\n",
    "top20_state_profit = df[df['state'].isin(top20_state__profit)]\n",
    "top20_state_profit\n"
   ]
  },
  {
   "cell_type": "code",
   "execution_count": null,
   "id": "e0afee6c",
   "metadata": {},
   "outputs": [],
   "source": [
    "sns.barplot(data = top20_state_profit , y = 'state' , x = 'profit' , estimator=sum , order=top20_state__profit)"
   ]
  },
  {
   "cell_type": "markdown",
   "id": "7b432040",
   "metadata": {},
   "source": [
    "### What is the total profit for each category in each region ?"
   ]
  },
  {
   "cell_type": "code",
   "execution_count": null,
   "id": "7d179371",
   "metadata": {},
   "outputs": [],
   "source": [
    "b = pd.pivot_table(data = df , columns= 'region' , index ='category' , values ='profit' , aggfunc=sum)\n",
    "sns.heatmap(b)"
   ]
  },
  {
   "cell_type": "markdown",
   "id": "abbcce03",
   "metadata": {},
   "source": [
    "### what is is the amount of discount every month ?"
   ]
  },
  {
   "cell_type": "code",
   "execution_count": null,
   "id": "3ff74328",
   "metadata": {},
   "outputs": [],
   "source": [
    "sns.barplot(data=df, y='month', x='discount', estimator=sum, order=pd.value_counts(df['month']).index)"
   ]
  },
  {
   "cell_type": "markdown",
   "id": "9e661564",
   "metadata": {},
   "source": [
    "### What is the most type of cutomer and with which segment dealing with our store ?"
   ]
  },
  {
   "cell_type": "code",
   "execution_count": null,
   "id": "c495d22e",
   "metadata": {},
   "outputs": [],
   "source": [
    "sns.countplot(data=df, x='segment', hue='ship_mode')"
   ]
  },
  {
   "cell_type": "markdown",
   "id": "56e4f77f",
   "metadata": {},
   "source": [
    "### Which are the top 10 producted by sales & quantity & discount & profit ?"
   ]
  },
  {
   "cell_type": "code",
   "execution_count": null,
   "id": "578f88fe",
   "metadata": {},
   "outputs": [],
   "source": [
    "pr_sales=pd.DataFrame(df.groupby('product_name').sum(['sales']))\n",
    "pr_sales.sort_values(by=['sales'],inplace=True,ascending=False)\n",
    "pr_sales"
   ]
  },
  {
   "cell_type": "code",
   "execution_count": null,
   "id": "db11f6f8",
   "metadata": {},
   "outputs": [],
   "source": [
    "pr_sales.head(10)"
   ]
  },
  {
   "cell_type": "code",
   "execution_count": null,
   "id": "68607b32",
   "metadata": {},
   "outputs": [],
   "source": []
  }
 ],
 "metadata": {
  "kernelspec": {
   "display_name": "Python 3 (ipykernel)",
   "language": "python",
   "name": "python3"
  },
  "language_info": {
   "codemirror_mode": {
    "name": "ipython",
    "version": 3
   },
   "file_extension": ".py",
   "mimetype": "text/x-python",
   "name": "python",
   "nbconvert_exporter": "python",
   "pygments_lexer": "ipython3",
   "version": "3.11.3"
  }
 },
 "nbformat": 4,
 "nbformat_minor": 5
}
